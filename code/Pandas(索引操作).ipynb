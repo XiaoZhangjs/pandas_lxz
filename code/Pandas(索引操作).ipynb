{
 "cells": [
  {
   "cell_type": "raw",
   "metadata": {},
   "source": [
    "# --------------------------------\n",
    "知识点5：索引操作\n",
    "1、设置/取消索引\n",
    "语法：\n",
    "df.set/reset_index(keys, inplace=False)\n",
    "参数介绍：\n",
    "keys: 要设置的索引列名称\n",
    "inplace: 是否覆盖原数据\n",
    "\n",
    "2、访问指定的索引数据\n",
    "\n",
    "2-1、inplace=True 的情况下：\n",
    "df.set_index(keys='要设置成索引的列向量名称', inplace=True)  # 设置索引\n",
    "df.reset_index(keys='要取消索引名称', inplace=True)  # 取消索引\n",
    "\n",
    "Example\n",
    "----------\n",
    "df.set_index('Date', inplace=True)  # 设置索引\n",
    "df.reset_index(inplace=True)  # 取消索引\n",
    "# 覆盖情况下，可以使用 df 直接访问\n",
    "df.head()\n",
    "df.ix[]  # 按标签或位置取值\n",
    "df.iloc[]  # 按位置取值\n",
    "df.loc[]   # 按标签取值\n",
    "\n",
    "2-2、# inplace=False 的情况下：\n",
    "# False 情况下，要通过一个变量 data 来访问数据和取消索引\n",
    "data = df.set_index('列名称', inplace=False)  # 设置索引\n",
    "df.reset_index(inplace=False)  # 取消索引\n",
    "\n",
    "Example\n",
    "----------\n",
    "data = df.set_index('Date', inplace=False)  # 设置索引\n",
    "df.reset_index(inplace=False)  # 注意这里依然是 df 来取消索引\n",
    "# 覆盖情况下，可以使用 df 直接访问\n",
    "data.ix[]  # 按标签或位置取值\n",
    "data.iloc[]  # 按位置取值\n",
    "data.loc[]   # 按标签取值\n"
   ]
  },
  {
   "cell_type": "code",
   "execution_count": 42,
   "metadata": {},
   "outputs": [
    {
     "name": "stdout",
     "output_type": "stream",
     "text": [
      "【设置索引】\n",
      "              Open   High    Low  Close    Volume  Adj Close\n",
      "Date                                                       \n",
      "2014-07-08  96.27  96.80  93.92  95.35  65130000      95.35\n",
      "2014-07-07  94.14  95.99  94.10  95.97  56305400      95.97\n",
      "2014-07-03  93.67  94.10  93.20  94.03  22891800      94.03\n",
      "\n",
      "【取消索引】\n",
      "          Date   Open   High    Low  Close    Volume  Adj Close\n",
      "0  2014-07-08  96.27  96.80  93.92  95.35  65130000      95.35\n",
      "1  2014-07-07  94.14  95.99  94.10  95.97  56305400      95.97\n",
      "2  2014-07-03  93.67  94.10  93.20  94.03  22891800      94.03\n",
      "【设置索引】\n",
      "              Open   High    Low  Close    Volume  Adj Close\n",
      "Date                                                       \n",
      "2014-07-08  96.27  96.80  93.92  95.35  65130000      95.35\n",
      "2014-07-07  94.14  95.99  94.10  95.97  56305400      95.97\n",
      "2014-07-03  93.67  94.10  93.20  94.03  22891800      94.03\n",
      "2014-07-02  93.87  94.06  93.09  93.48  28420900      93.48\n",
      "2014-07-01  93.52  94.07  93.13  93.52  38170200      93.52\n",
      "\n",
      "【取消索引】\n",
      "          Date   Open   High    Low  Close    Volume  Adj Close\n",
      "0  2014-07-08  96.27  96.80  93.92  95.35  65130000      95.35\n",
      "1  2014-07-07  94.14  95.99  94.10  95.97  56305400      95.97\n",
      "2  2014-07-03  93.67  94.10  93.20  94.03  22891800      94.03\n",
      "3  2014-07-02  93.87  94.06  93.09  93.48  28420900      93.48\n",
      "4  2014-07-01  93.52  94.07  93.13  93.52  38170200      93.52\n"
     ]
    }
   ],
   "source": [
    "''' 索引操作 '''\n",
    "import pandas as pd\n",
    "\n",
    "df = pd.read_csv('../data/appl_1980_2014.csv')\n",
    "\n",
    "# ----------------------------------------------\n",
    "''' 1、inplace=False 不覆盖原数据情况下 \n",
    "    简接使用一个变量 data 访问数据\n",
    "'''\n",
    "data = df.set_index('Date', inplace=False)  # 不覆盖原数据\n",
    "print('【设置索引】\\n', data.iloc[:3,:])\n",
    "df.reset_index(inplace=False)\n",
    "print('\\n【取消索引】\\n', df.iloc[:3,:])\n",
    "\n",
    "# ----------------------------------------------\n",
    "''' 2、inplace=True 覆盖原数据情况下 \n",
    "    直接使用 df 访问数据\n",
    "'''\n",
    "df.set_index('Date', inplace=True)  # 不覆盖原数据\n",
    "print('【设置索引】\\n', df.iloc[:5,:])\n",
    "df.reset_index(inplace=True)\n",
    "print('\\n【取消索引】\\n', df.iloc[:5,:])\n",
    "\n"
   ]
  },
  {
   "cell_type": "raw",
   "metadata": {},
   "source": [
    "# -------------------------------\n",
    "知识点6：选择过滤\n",
    "1、通过索引或者列来选择过滤\n",
    "''' 在索引为 int 类型时 '''\n",
    "df.loc[0: 10, 2: 3]"
   ]
  }
 ],
 "metadata": {
  "kernelspec": {
   "display_name": "Python 3",
   "language": "python",
   "name": "python3"
  },
  "language_info": {
   "codemirror_mode": {
    "name": "ipython",
    "version": 3
   },
   "file_extension": ".py",
   "mimetype": "text/x-python",
   "name": "python",
   "nbconvert_exporter": "python",
   "pygments_lexer": "ipython3",
   "version": "3.6.3"
  }
 },
 "nbformat": 4,
 "nbformat_minor": 2
}
